{
 "cells": [
  {
   "cell_type": "markdown",
   "metadata": {},
   "source": [
    "## 2570 Proj 3\n",
    "___Warren Shi___"
   ]
  },
  {
   "cell_type": "code",
   "execution_count": 2,
   "metadata": {},
   "outputs": [],
   "source": [
    "## Set up \n",
    "import numpy as np \n",
    "import pandas as pd\n",
    "import matplotlib.pyplot as plt\n",
    "import seaborn as sns\n",
    "import scipy.stats as st\n",
    "\n",
    "%matplotlib inline"
   ]
  },
  {
   "cell_type": "code",
   "execution_count": 18,
   "metadata": {},
   "outputs": [],
   "source": [
    "'''\n",
    "Define some basic functions\n",
    "'''\n",
    "def timestamp(P,N):\n",
    "    return int(2**(int(P)-1)) * (1/int(N))\n",
    "def Brownian(N):    \n",
    "    #np.random.seed(seed)                         \n",
    "    delta_t = 1./N                                    \n",
    "    b = np.random.normal(0., 1., int(N))*np.sqrt(delta_t) \n",
    "    W = np.cumsum(b)\n",
    "    return W, b\n",
    "def GBM(So, mu, sigma, W, T, N):    \n",
    "    t = np.linspace(0.,1.,int(N)+1)\n",
    "    S = []\n",
    "    S.append(So)\n",
    "    for i in range(1,int(N+1)):\n",
    "        drift = (mu - 0.5 * sigma**2) * t[i]\n",
    "        diffusion = sigma * W[i-1]\n",
    "        S_temp = So*np.exp(drift + diffusion)\n",
    "        S.append(S_temp)\n",
    "    return S\n",
    "def Euler_Maruyama(So, mu, sigma, b, T, N, P):\n",
    "    M=2**(int(P)-1)\n",
    "    dt = int(M) * (1/int(N))\n",
    "    L = N / M\n",
    "    wi = [So]\n",
    "    for i in range(0,int(L)):\n",
    "        Winc = np.sum(b[(M*(i-1)+M):(M*i + M)])\n",
    "        w_i_new = wi[i]+mu*wi[i]*dt+sigma*wi[i]*Winc\n",
    "        wi.append(w_i_new)\n",
    "    return wi\n",
    "def Milstein(So, mu, sigma, b, T, N, P):\n",
    "    M=2**(int(P)-1)\n",
    "    dt = int(M) * (1/int(N))\n",
    "    L = N / M\n",
    "    wi = [So]\n",
    "    for i in range(0,int(L)):\n",
    "        Winc = np.sum(b[(M*(i-1)+M):(M*i + M)])\n",
    "        w_i_new = wi[i]+mu*wi[i]*dt+sigma*wi[i]*Winc + 0.5*(sigma**2*wi[i])*(Winc**2-dt)\n",
    "        wi.append(w_i_new)\n",
    "    return wi\n",
    "'''\n",
    "Euler Maruyama Convergence\n",
    "'''\n",
    "def SEM(So, mu, sigma, T, N, P,Niter):\n",
    "    es1=So*np.exp((mu+0.5*sigma**2)*T)\n",
    "    error=[0]*Niter\n",
    "#  weak_error=np.array([0]*Niter)\n",
    "    weak_error=[0]*Niter\n",
    "    for  i in range(1,Niter+1):\n",
    "        W,b= Brownian(i, N)\n",
    "        s1 = GBM(So, mu, sigma, W, T, N)[-1] \n",
    "        sem = Euler_Maruyama(So, mu, sigma, b, T, N, P)[-1]\n",
    "        error[i-1]=np.abs(s1-sem)\n",
    "        weak_error[i-1]=sem\n",
    "    return error,np.mean(error),np.abs(es1-np.mean(weak_error))"
   ]
  },
  {
   "cell_type": "code",
   "execution_count": 4,
   "metadata": {},
   "outputs": [],
   "source": [
    "'''\n",
    "Milstein Convergence\n",
    "'''\n",
    "def SM(So, mu, sigma, T, N, P,Niter):\n",
    "    es1=So*np.exp((mu+0.5*sigma**2)*T)\n",
    "    error=[0]*Niter\n",
    "    #weak_error=np.array([0]*Niter)\n",
    "    weak_error=[0]*Niter\n",
    "    for  i in range(1,Niter+1):\n",
    "        W,b= Brownian(i, N)\n",
    "        s1 = GBM(So, mu, sigma, W, T, N)[-1] \n",
    "        sm = Milstein(So, mu, sigma, b, T, N, P)[-1]\n",
    "        error[i-1]=np.abs(s1-sm)\n",
    "        weak_error[i-1]=sm\n",
    "    return error,np.mean(error),np.abs(es1-np.mean(weak_error))\n",
    "'''\n",
    "fit staright line\n",
    "'''\n",
    "def best_fit(X, Y):\n",
    "    xbar = sum(X)/len(X)\n",
    "    ybar = sum(Y)/len(Y)\n",
    "    n = len(X) # or len(Y)\n",
    "    numer = sum([xi*yi for xi,yi in zip(X, Y)]) - n * xbar * ybar\n",
    "    denum = sum([xi**2 for xi in X]) - n * xbar**2\n",
    "    b = numer / denum\n",
    "    a = ybar - b * xbar\n",
    "    return a, b\n",
    "\"\"\"\n",
    "run function\n",
    "\"\"\"\n",
    "S0 = 1\n",
    "mu = 0.5\n",
    "sigma = 0.3\n",
    "T = 1.\n",
    "N = 2.**9\n",
    "Npath=1000\n",
    "testm=[0]*5\n",
    "testem=[0]*5\n",
    "strongm=[0]*5\n",
    "strongem=[0]*5\n",
    "weakm=[0]*5\n",
    "weakem=[0]*5\n",
    "for j in range(1,6):    \n",
    "    testm[j-1],strongm[j-1],weakm[j-1]=SM(S0,mu,sigma,T,N,j,Npath)\n",
    "    testem[j-1],strongem[j-1],weakem[j-1]=SEM(S0,mu,sigma,T,N,j,Npath)\n",
    "dt= [timestamp(j,N) for j in range(1,6)]"
   ]
  },
  {
   "cell_type": "code",
   "execution_count": 9,
   "metadata": {},
   "outputs": [
    {
     "data": {
      "text/plain": [
       "[0.001953125, 0.00390625, 0.0078125, 0.015625, 0.03125]"
      ]
     },
     "execution_count": 9,
     "metadata": {},
     "output_type": "execute_result"
    }
   ],
   "source": [
    "dt"
   ]
  },
  {
   "cell_type": "code",
   "execution_count": 20,
   "metadata": {},
   "outputs": [
    {
     "data": {
      "text/plain": [
       "1.648428398520227"
      ]
     },
     "execution_count": 20,
     "metadata": {},
     "output_type": "execute_result"
    }
   ],
   "source": [
    "np.mean([GBM(1, mu, sigma, Brownian(np.power(2,9))[0], T, N)[-1] for i in range(10000)])"
   ]
  },
  {
   "cell_type": "code",
   "execution_count": null,
   "metadata": {},
   "outputs": [],
   "source": []
  }
 ],
 "metadata": {
  "kernelspec": {
   "display_name": "Python 3",
   "language": "python",
   "name": "python3"
  },
  "language_info": {
   "codemirror_mode": {
    "name": "ipython",
    "version": 3
   },
   "file_extension": ".py",
   "mimetype": "text/x-python",
   "name": "python",
   "nbconvert_exporter": "python",
   "pygments_lexer": "ipython3",
   "version": "3.7.4"
  }
 },
 "nbformat": 4,
 "nbformat_minor": 4
}
