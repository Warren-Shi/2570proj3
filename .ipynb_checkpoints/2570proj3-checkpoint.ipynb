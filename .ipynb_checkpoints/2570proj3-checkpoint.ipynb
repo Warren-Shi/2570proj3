{
 "cells": [
  {
   "cell_type": "markdown",
   "metadata": {},
   "source": [
    "# 2570 Proj 3\n",
    "___Warren Shi___"
   ]
  },
  {
   "cell_type": "code",
   "execution_count": 1,
   "metadata": {},
   "outputs": [],
   "source": [
    "## Set up \n",
    "import numpy as np \n",
    "import pandas as pd\n",
    "import matplotlib.pyplot as plt\n",
    "import seaborn as sns\n",
    "import scipy.stats as st\n",
    "import scipy.integrate as integrate\n",
    "\n",
    "%matplotlib inline"
   ]
  },
  {
   "cell_type": "markdown",
   "metadata": {},
   "source": [
    "## Q1 "
   ]
  },
  {
   "cell_type": "markdown",
   "metadata": {},
   "source": [
    "### a). simulation function"
   ]
  },
  {
   "cell_type": "code",
   "execution_count": 2,
   "metadata": {},
   "outputs": [],
   "source": [
    "## i) function for simulation\n",
    "'''\n",
    "Function sim_exp\n",
    "This function takes the intensity parameter alpha and number of simulations n to simulate n iid wait times \n",
    "(exponential distribution) for a Poisson Process with intensity alpha. \n",
    "\n",
    "parameters:\n",
    "    alpha: double, the intensity parameter\n",
    "    n    : double, number of simulations \n",
    "    \n",
    "output:\n",
    "    np array of length n, the n simulated wait times (exponential variable)\n",
    "'''\n",
    "def sim_exp(n = 1, alpha = 3):\n",
    "    result = -np.log(1 - np.random.uniform(0,1,n)) / alpha\n",
    "    if n == 1:\n",
    "        return result[0]\n",
    "    else: \n",
    "        return result"
   ]
  },
  {
   "cell_type": "code",
   "execution_count": 3,
   "metadata": {},
   "outputs": [],
   "source": [
    "## ii) find N\n",
    "# we find the variance first from the pilot study\n",
    "pilot_size = 150\n",
    "pilot_data = sim_exp(pilot_size)\n",
    "pilot_var = np.var(pilot_data)\n",
    "z = st.norm.ppf(0.995)\n",
    "target_N = int(np.ceil((z*np.sqrt(pilot_var)/0.01)**2))"
   ]
  },
  {
   "cell_type": "code",
   "execution_count": 4,
   "metadata": {},
   "outputs": [],
   "source": [
    "## iii) find CI\n",
    "wt_sample = sim_exp(target_N)\n",
    "e_wt = np.mean(wt_sample)\n",
    "se_wt = np.sqrt(np.var(wt_sample)/target_N)\n",
    "CI_lower, CI_upper = e_wt - z * se_wt, e_wt + z * se_wt"
   ]
  },
  {
   "cell_type": "code",
   "execution_count": 5,
   "metadata": {},
   "outputs": [
    {
     "name": "stdout",
     "output_type": "stream",
     "text": [
      "The required sample size for the CI is: 9583\n",
      "The estimated expect value of Wt is   : 0.3355\n",
      "The 99% confidence interval is        : [0.3267 0.3443]\n"
     ]
    }
   ],
   "source": [
    "print('The required sample size for the CI is: ' + str(target_N)) \n",
    "print('The estimated expect value of Wt is   : ' + str(np.round(e_wt, 4)))\n",
    "print('The 99% confidence interval is        : ' + str((np.round((CI_lower, CI_upper), 4))))"
   ]
  },
  {
   "cell_type": "markdown",
   "metadata": {},
   "source": [
    "### b). acceptance-rejection"
   ]
  },
  {
   "cell_type": "code",
   "execution_count": 6,
   "metadata": {},
   "outputs": [],
   "source": [
    "'''\n",
    "Function pdf_1b\n",
    "pdf of the distribution in question\n",
    "\n",
    "parameters:\n",
    "    alpha: double, the intensity parameter\n",
    "    n    : double, number of simulations \n",
    "    \n",
    "output:\n",
    "    np array of length n, the n simulated wait times (exponential variable)\n",
    "'''\n",
    "def pdf_1b(x, alpha = 3, t = 1):\n",
    "    if np.isscalar(x):\n",
    "        x = np.array(x)\n",
    "    arr1 = np.where((x<=t) & (x>0), alpha**2 * x * np.exp(-alpha*x), 0)\n",
    "    arr2 = np.where(x>t, alpha * (1 + alpha * t) * np.exp(-alpha*x), 0)\n",
    "    return arr1 + arr2"
   ]
  },
  {
   "cell_type": "code",
   "execution_count": 7,
   "metadata": {},
   "outputs": [
    {
     "data": {
      "image/png": "[encoded data removed]",
      "text/plain": [
       "<Figure size 432x288 with 1 Axes>"
      ]
     },
     "metadata": {
      "needs_background": "light"
     },
     "output_type": "display_data"
    }
   ],
   "source": [
    "## What our target pdf looks like \n",
    "x = np.linspace(0,5,10000)\n",
    "plt.plot(x, pdf_1b(x))\n",
    "plt.title('Target PDF');"
   ]
  },
  {
   "cell_type": "code",
   "execution_count": 8,
   "metadata": {},
   "outputs": [],
   "source": [
    "'''\n",
    "Function sim_1b\n",
    "A function that simulates the above pdf through Acceptance-Rejection\n",
    "\n",
    "parameters:\n",
    "    None\n",
    "    \n",
    "output:\n",
    "    double, the simulated result\n",
    "'''\n",
    "def sim_1b():\n",
    "    c = 4\n",
    "    expn = sim_exp()\n",
    "    if np.random.uniform() <= pdf_1b(expn)/(c*3*np.exp(-3*expn)):\n",
    "        return expn\n",
    "    else:\n",
    "        return sim_1b()"
   ]
  },
  {
   "cell_type": "code",
   "execution_count": 9,
   "metadata": {},
   "outputs": [
    {
     "data": {
      "image/png": "[encoded data removed]",
      "text/plain": [
       "<Figure size 432x288 with 1 Axes>"
      ]
     },
     "metadata": {
      "needs_background": "light"
     },
     "output_type": "display_data"
    }
   ],
   "source": [
    "## Graphical illustration of our simulated distribution\n",
    "try_1b = [sim_1b() for i in range(100000)]\n",
    "sns.distplot(try_1b, bins = 100, kde = False, norm_hist = True)\n",
    "plt.title('Histogram of 100000 Samples from Our Simulation');"
   ]
  },
  {
   "cell_type": "code",
   "execution_count": 10,
   "metadata": {},
   "outputs": [
    {
     "name": "stdout",
     "output_type": "stream",
     "text": [
      "The required sample size for the CI is: 16116\n",
      "The estimated expect value of Xt is   : 0.6524\n",
      "The 99% confidence interval is        : [0.6435 0.6612]\n"
     ]
    }
   ],
   "source": [
    "## Something similar to part a) to find a confidence interval\n",
    "## get N\n",
    "pilot_size = 150\n",
    "pilot_data = [sim_1b() for i in range(pilot_size)]\n",
    "pilot_var = np.var(pilot_data)\n",
    "z = st.norm.ppf(0.995)\n",
    "target_N = int(np.ceil((z*np.sqrt(pilot_var)/0.01)**2))\n",
    "## get CI\n",
    "ob_sample = [sim_1b() for i in range(target_N)]\n",
    "e_1b = np.mean(ob_sample)\n",
    "se_1b = np.sqrt(np.var(ob_sample)/target_N)\n",
    "CI_lower, CI_upper = e_1b - z * se_1b, e_1b + z * se_1b\n",
    "## Output\n",
    "print('The required sample size for the CI is: ' + str(target_N)) \n",
    "print('The estimated expect value of Xt is   : ' + str(np.round(e_1b, 4)))\n",
    "print('The 99% confidence interval is        : ' + str((np.round((CI_lower, CI_upper), 4))))"
   ]
  },
  {
   "cell_type": "markdown",
   "metadata": {},
   "source": [
    "### c). Control Variate Simulation"
   ]
  },
  {
   "cell_type": "code",
   "execution_count": 11,
   "metadata": {},
   "outputs": [],
   "source": [
    "'''\n",
    "Function sim_1c\n",
    "Vanilla simulation of the inter-arrival interval Xt = Wt+Vt.\n",
    "\n",
    "parameters:\n",
    "    n    : double, number of simulations \n",
    "    \n",
    "output:\n",
    "    xt: the n simulated intervals \n",
    "    wt: the n simulated wait times \n",
    "'''\n",
    "def sim_1c(n = 1):\n",
    "    xt = []\n",
    "    wt = []\n",
    "    while len(xt)<n:\n",
    "        poisson_process = [0]\n",
    "        while poisson_process[-1]<1:\n",
    "            poisson_process.append(poisson_process[-1]+sim_exp())\n",
    "        wti = poisson_process[-1] - 1\n",
    "        vti = 1 - poisson_process[-2]\n",
    "        xt.append(wti+vti)\n",
    "        wt.append(wti)\n",
    "    return xt, wt"
   ]
  },
  {
   "cell_type": "code",
   "execution_count": 12,
   "metadata": {},
   "outputs": [
    {
     "data": {
      "image/png": "[encoded data removed]",
      "text/plain": [
       "<Figure size 432x288 with 1 Axes>"
      ]
     },
     "metadata": {
      "needs_background": "light"
     },
     "output_type": "display_data"
    }
   ],
   "source": [
    "## Graphical illustration of our simulated distribution\n",
    "sns.distplot(sim_1c(100000)[0], bins = 100, kde = False, norm_hist = True)\n",
    "plt.title('Histogram of 100000 Samples from Our Simulation');"
   ]
  },
  {
   "cell_type": "code",
   "execution_count": 13,
   "metadata": {},
   "outputs": [],
   "source": [
    "## Estimate the covariance and correlation between xt and wt through pilot study\n",
    "pilot_data = sim_1c(100000)\n",
    "cov_pilot = np.cov(pilot_data)[0,1]\n",
    "corr_pilot = np.corrcoef(pilot_data)[0,1]\n",
    "\n",
    "## variance of wt is 1/lambda(alpah, or 3) squared since wt is exponential\n",
    "var_wt = 1/9\n",
    "## get optimal c\n",
    "c_star = cov_pilot/var_wt\n",
    "## E(wt) is 1/3 by exponential\n",
    "v = 1/3\n",
    "\n",
    "## sample again for the actual controlled variable estimation\n",
    "xt_control, wt_control = sim_1c(100000)\n",
    "## get theta by formula\n",
    "theta = np.mean(xt_control) + c_star*(v-np.mean(wt_control))"
   ]
  },
  {
   "cell_type": "code",
   "execution_count": 14,
   "metadata": {},
   "outputs": [
    {
     "name": "stdout",
     "output_type": "stream",
     "text": [
      "The estimated mean of Xt through control-variate is: 0.6493\n",
      "The variance of this estimation over the variance of vanilla Monte-Carlo is: 0.4072\n"
     ]
    }
   ],
   "source": [
    "print('The estimated mean of Xt through control-variate is: ' + str(np.round(theta, 4)))\n",
    "print('The variance of this estimation over the variance of vanilla Monte-Carlo is: ' \n",
    "      + str(np.round(1-corr_pilot**2, 4)))"
   ]
  },
  {
   "cell_type": "markdown",
   "metadata": {},
   "source": [
    "## Q2"
   ]
  },
  {
   "cell_type": "code",
   "execution_count": 15,
   "metadata": {},
   "outputs": [
    {
     "name": "stdout",
     "output_type": "stream",
     "text": [
      "Target estimated mean: 0.1595\n",
      "Vanilla MC variance: 0.134\n"
     ]
    }
   ],
   "source": [
    "## Vanilla Monte Carlo as sanity check\n",
    "n = 100000\n",
    "test_2 = []\n",
    "for k in range(n):\n",
    "    test_2.append(np.sum([np.random.exponential(1)*(i+1) for i in range(5)]) >= 22)\n",
    "print('Target estimated mean: ' + str(np.round(np.mean(test_2),4)))\n",
    "print('Vanilla MC variance: ' + str(np.round(np.var(test_2),4)))"
   ]
  },
  {
   "cell_type": "code",
   "execution_count": 16,
   "metadata": {},
   "outputs": [
    {
     "name": "stdout",
     "output_type": "stream",
     "text": [
      "The estimated Theta is :0.1595\n",
      "The variance of this antithetic estimator is: 0.0558\n",
      "This variance is 0.4161 of the vanilla MC variance\n"
     ]
    }
   ],
   "source": [
    "## Antithetic variable estimator\n",
    "sims_2 = []\n",
    "for k in range(n):\n",
    "    unif2 = np.random.uniform(0,1,5)\n",
    "    sims_2.append((int(np.sum([-np.log(unif2[i])*(i+1) for i in range(5)])>=22) + \n",
    "                int(np.sum([-np.log(1-unif2[i])*(i+1) for i in range(5)])>=22)) / 2)\n",
    "\n",
    "print('The estimated Theta is :' + str(np.round(np.mean(sims_2),4)))\n",
    "print('The variance of this antithetic estimator is: ' + str(np.round(np.var(sims_2),4)))\n",
    "print('This variance is ' + str(np.round(np.var(sims_2)/np.var(test_2), 4)) + ' of the vanilla MC variance')"
   ]
  },
  {
   "cell_type": "code",
   "execution_count": 17,
   "metadata": {},
   "outputs": [
    {
     "name": "stdout",
     "output_type": "stream",
     "text": [
      "Theoretically, the antithetic estimator's variance should be 0.4124 of the vanilla MC variance, which is consistant with our result above\n"
     ]
    }
   ],
   "source": [
    "## Theoretical improvement in variance\n",
    "## Get the correlation through pilot study and plug into formula\n",
    "n = 10000\n",
    "sim_u = np.random.uniform(0,1,[5,n])\n",
    "corr_anti = np.corrcoef([int(np.sum([-np.log(sim_u[i, k])*(i+1) for i in range(5)])>=22) for k in range(n)], \n",
    "                        [int(np.sum([-np.log(1-sim_u[i, k])*(i+1) for i in range(5)])>=22) for k in range(n)])[0,1]\n",
    "print('Theoretically, the antithetic estimator\\'s variance should be ' + str(np.round(1/2*(1+corr_anti),4)) \n",
    "      + ' of the vanilla MC variance, which is consistant with our result above')"
   ]
  },
  {
   "cell_type": "markdown",
   "metadata": {},
   "source": [
    "## Q3"
   ]
  },
  {
   "cell_type": "code",
   "execution_count": 18,
   "metadata": {},
   "outputs": [],
   "source": [
    "'''\n",
    "Function sim_3_vanilla\n",
    "Vanilla simulation of the claims\n",
    "\n",
    "parameters:\n",
    "    n    : double, number of simulations \n",
    "    \n",
    "output:\n",
    "    sim: the n simulated intervals \n",
    "    U: the n simulated uniform distributions  \n",
    "'''\n",
    "def sim_3_vanilla(n = 1):\n",
    "    U = np.random.uniform(0, 1, n)\n",
    "    sim = 1-st.poisson.cdf(19,15/(U+0.5))\n",
    "    if n == 1:\n",
    "        return sim[0], U[0]\n",
    "    else: \n",
    "        return sim, U"
   ]
  },
  {
   "cell_type": "code",
   "execution_count": 19,
   "metadata": {},
   "outputs": [
    {
     "name": "stdout",
     "output_type": "stream",
     "text": [
      "Target estimated mean: 0.2893\n",
      "Vanilla MC variance: 0.1053\n"
     ]
    }
   ],
   "source": [
    "## Vanilla Monte Carlo as sanity check\n",
    "sim_vanilla = sim_3_vanilla(1000000)[0]\n",
    "var_vanilla = np.var(sim_vanilla)\n",
    "print('Target estimated mean: ' + str(np.round(np.mean(sim_vanilla), 4)))\n",
    "print('Vanilla MC variance: ' + str(np.round(var_vanilla, 4)))"
   ]
  },
  {
   "cell_type": "markdown",
   "metadata": {},
   "source": [
    "### a). Control variate estimation"
   ]
  },
  {
   "cell_type": "code",
   "execution_count": 20,
   "metadata": {},
   "outputs": [
    {
     "name": "stdout",
     "output_type": "stream",
     "text": [
      "The estimated probability by control variate is: 0.2901\n",
      "The variance of this estimation is: 0.0163\n",
      "The variance of vanilla MC estimation is: 0.1053\n",
      "The theoretical variance of this estimation over the variance of vanilla Monte-Carlo is: 0.1544\n",
      "From our simulation, the ratio is: 0.1547\n"
     ]
    }
   ],
   "source": [
    "## Control variable estimation\n",
    "## Procedure similar to that of 1c)\n",
    "\n",
    "## Find covariance and correlation through pilot study\n",
    "sim_3_data, sim_3_U = sim_3_vanilla(100000)\n",
    "cov_pilot = np.cov(sim_3_data, sim_3_U)[0,1]\n",
    "corr_pilot = np.corrcoef(sim_3_data, sim_3_U)[0,1]\n",
    "\n",
    "## uniform variance\n",
    "var_unif = 1/12\n",
    "## get optimal c\n",
    "c_star = cov_pilot/var_unif\n",
    "## uniform expectation\n",
    "v = 1/2\n",
    "\n",
    "## sample again for the actual controlled variable estimation\n",
    "sim_3_control, u_3_control = sim_3_vanilla(100000)\n",
    "## get p by formula\n",
    "p_control = np.mean(sim_3_control) + c_star*(v-np.mean(u_3_control))\n",
    "## variance of this estimation\n",
    "var_control = np.var((sim_3_control) + c_star*(v-u_3_control))\n",
    "\n",
    "print('The estimated probability by control variate is: ' + str(np.round(p_control,4)))\n",
    "print('The variance of this estimation is: ' + str(np.round(var_control, 4)))\n",
    "print('The variance of vanilla MC estimation is: ' + str(np.round(var_vanilla, 4)))\n",
    "print('The theoretical variance of this estimation over the variance of vanilla Monte-Carlo is: ' \n",
    "      + str(np.round(1-corr_pilot**2, 4)))\n",
    "print('From our simulation, the ratio is: ' + str(np.round(var_control/var_vanilla, 4)))"
   ]
  },
  {
   "cell_type": "markdown",
   "metadata": {},
   "source": [
    "### b). Antithetic estimation"
   ]
  },
  {
   "cell_type": "code",
   "execution_count": 21,
   "metadata": {},
   "outputs": [
    {
     "name": "stdout",
     "output_type": "stream",
     "text": [
      "The estimated probability by antithetic sampling is: 0.2896\n",
      "The variance of this estimation is: 0.0161\n",
      "The variance of vanilla MC estimation is: 0.1053\n",
      "The theoretical variance of this estimation over the variance of vanilla Monte-Carlo is: 0.1525\n",
      "From our simulation, the ratio is: 0.1528\n"
     ]
    }
   ],
   "source": [
    "## Simulate uniforms first\n",
    "U = np.random.uniform(0, 1, 1000000)\n",
    "## Then simulate the corresponding Poissons\n",
    "sim1 = 1 - st.poisson.cdf(k = 19, mu = 15/(U+0.5))\n",
    "sim2 = 1 - st.poisson.cdf(k = 19, mu = 15/(1-U+0.5))\n",
    "## This sample can also be used as the pilot study for the correlation. It won't affect the result\n",
    "corr_anti = np.corrcoef(sim1, sim2)[0,1]\n",
    "## antithetic sampe\n",
    "sim_3_anti = (sim1+sim2)/2\n",
    "## get estimated probability\n",
    "p_anti = np.mean(sim_3_anti)\n",
    "## variance of the estimation\n",
    "var_anti = np.var(sim_3_anti)\n",
    "\n",
    "print('The estimated probability by antithetic sampling is: ' + str(np.round(p_anti,4)))\n",
    "print('The variance of this estimation is: ' + str(np.round(var_anti, 4)))\n",
    "print('The variance of vanilla MC estimation is: ' + str(np.round(var_vanilla, 4)))\n",
    "print('The theoretical variance of this estimation over the variance of vanilla Monte-Carlo is: ' \n",
    "      + str(np.round((1+corr_anti)/2, 4)))\n",
    "print('From our simulation, the ratio is: ' + str(np.round(var_anti/var_vanilla, 4)))"
   ]
  },
  {
   "cell_type": "markdown",
   "metadata": {},
   "source": [
    "## Q4"
   ]
  },
  {
   "cell_type": "code",
   "execution_count": 30,
   "metadata": {},
   "outputs": [],
   "source": [
    "## parameters\n",
    "T= 0.25 \n",
    "r = 0.05\n",
    "sig = 0.15\n",
    "K = 150\n",
    "S0 = 95\n",
    "H = 85\n",
    "m = 50\n",
    "t = np.linspace(0, T, m+1)"
   ]
  },
  {
   "cell_type": "markdown",
   "metadata": {},
   "source": [
    "## Q5"
   ]
  },
  {
   "cell_type": "code",
   "execution_count": 23,
   "metadata": {},
   "outputs": [],
   "source": [
    "## params\n",
    "mu = 0.5\n",
    "sig = 0.3\n",
    "s0 = 1\n",
    "T = 1\n",
    "dt = np.power(2., -9)"
   ]
  },
  {
   "cell_type": "code",
   "execution_count": 24,
   "metadata": {},
   "outputs": [],
   "source": [
    "'''\n",
    "Function BM\n",
    "Vanilla simulation of Brownian Motion\n",
    "\n",
    "parameters:\n",
    "    dt: time step\n",
    "    T : terminal time\n",
    "    \n",
    "output:\n",
    "    W: the simulated BM\n",
    "    N: Normal distributions used in the simulation \n",
    "'''\n",
    "def BM(dt, T):                         \n",
    "    n = int(T/dt)                                   \n",
    "    N = np.random.normal(0, np.sqrt(dt), n) \n",
    "    W = np.cumsum(N)\n",
    "    return W, N\n",
    "\n",
    "'''\n",
    "Function GBM\n",
    "Vanilla simulation of Geometric Brownian Motion\n",
    "\n",
    "parameters:\n",
    "    s0 : initial point\n",
    "    mu : drift\n",
    "    sig: volatility\n",
    "    dt : time step\n",
    "    T  : terminal time\n",
    "    W  : BM to use in the simulation\n",
    "    \n",
    "output:\n",
    "    end point (the terminal value) of the simulation\n",
    "'''\n",
    "def GBM(s0, mu, sig, dt, T, W): \n",
    "    t = np.arange(0, T, dt)\n",
    "    n = len(t)\n",
    "    S = s0 * np.exp((mu-sig**2/2)*t[1:] + sig*W[:-1])\n",
    "    return np.hstack([s0, S])[-1]\n",
    "\n",
    "'''\n",
    "Function Euler_Maruyama\n",
    "Euler Maruyama simulation of Geometric Brownian Motion\n",
    "\n",
    "parameters:\n",
    "    s0  : initial point\n",
    "    mu  : drift\n",
    "    sig : volatility\n",
    "    dt  : time step in the normal distribution\n",
    "    delt: actual time step for the simulation\n",
    "    T   : terminal time\n",
    "    N   : normal distribution to use in the simulation\n",
    "    \n",
    "output:\n",
    "    end point (the terminal value) of the simulation\n",
    "'''\n",
    "def Euler_Maruyama(s0, mu, sig, dt, delt, T, N):\n",
    "    t = np.arange(0, T, delt)\n",
    "    N = N.reshape(-1, int(delt/dt)).sum(axis = 1)\n",
    "    s_hat = [s0]\n",
    "    for i in range(0, len(t)):\n",
    "        s_hat.append(s_hat[i]*(1 + mu*delt + sig*N[i]))\n",
    "    return s_hat[-1]\n",
    "\n",
    "'''\n",
    "Function Milstein\n",
    "Milstein simulation of Geometric Brownian Motion\n",
    "\n",
    "parameters:\n",
    "    s0  : initial point\n",
    "    mu  : drift\n",
    "    sig : volatility\n",
    "    dt  : time step in the normal distribution\n",
    "    delt: actual time step for the simulation\n",
    "    T   : terminal time\n",
    "    N   : normal distribution to use in the simulation\n",
    "    \n",
    "output:\n",
    "    end point (the terminal value) of the simulation\n",
    "'''\n",
    "def Milstein(s0, mu, sig, dt, delt, T, N):\n",
    "    t = np.arange(0, T, delt)\n",
    "    N = N.reshape(-1, int(delt/dt)).sum(axis = 1)\n",
    "    s_hat = [s0]\n",
    "    for i in range(0, len(t)):\n",
    "        s_hat.append(s_hat[i]*(1 + mu*delt + sig*N[i] + sig**2*(N[i]**2-dt)/2))\n",
    "    return s_hat[-1]"
   ]
  },
  {
   "cell_type": "code",
   "execution_count": 25,
   "metadata": {},
   "outputs": [],
   "source": [
    "## This is the actual expectation\n",
    "e_S1 = s0*np.exp(mu/2*T)\n",
    "## Initialize \n",
    "delts = []\n",
    "error_weak_em = []\n",
    "error_weak_mil = []\n",
    "error_str_em = []\n",
    "error_str_mil = []\n",
    "## Loop through different p's\n",
    "for p in range(1, 6):\n",
    "    ## delta t for the simulation\n",
    "    delt = dt*np.power(2, p-1)\n",
    "    delts.append(delt)\n",
    "    ## more initialization\n",
    "    S1_em = []\n",
    "    S1_mil = []\n",
    "    error_em = []\n",
    "    error_mil = []\n",
    "    ## 50000 iterations\n",
    "    for k in range(50000):\n",
    "        ## simulate the BM first. Keep track of the normal distribution used in it\n",
    "        W, N = BM(dt, T)\n",
    "        ## simulate the GBM using the BM\n",
    "        s1 = GBM(s0, mu, sig, dt, T, W)\n",
    "        ## simulate the GBM through E-M, using the normal distribution in BM\n",
    "        s1_em = Euler_Maruyama(s0, mu, sig, dt, delt, T, N)\n",
    "        ## simulate the GBM through Milstein, using the normal distribution in BM\n",
    "        s1_mil = Milstein(s0, mu, sig, dt, delt, T, N)\n",
    "        ## store results\n",
    "        S1_em.append(s1_em)\n",
    "        S1_mil.append(s1_mil)\n",
    "        error_em.append(np.abs(s1 - s1_em))\n",
    "        error_mil.append(np.abs(s1 - s1_mil))\n",
    "    ## strong errors are the average of absolute differences\n",
    "    error_str_em.append(np.mean(error_em))\n",
    "    error_str_mil.append(np.mean(error_mil))\n",
    "    ## weak errors are the absolute differences between average of simulation and actual expectation \n",
    "    error_weak_em.append(np.abs(e_S1 - np.mean(S1_em)))\n",
    "    error_weak_mil.append(np.abs(e_S1 - np.mean(S1_mil)))"
   ]
  },
  {
   "cell_type": "code",
   "execution_count": 26,
   "metadata": {},
   "outputs": [
    {
     "data": {
      "image/png": "[encoded data removed]",
      "text/plain": [
       "<Figure size 720x504 with 1 Axes>"
      ]
     },
     "metadata": {
      "needs_background": "light"
     },
     "output_type": "display_data"
    }
   ],
   "source": [
    "plt.figure(figsize = (10,7))\n",
    "plt.title('Log-Log Regression Plot of Euler-Maruyama\\'s Strong Convergence')\n",
    "sns.regplot(np.log(delts), np.log(error_str_em), ci = None)\n",
    "plt.xlabel('delta t')\n",
    "plt.ylabel('average of absolute differences');"
   ]
  },
  {
   "cell_type": "code",
   "execution_count": 27,
   "metadata": {},
   "outputs": [
    {
     "data": {
      "image/png": "[encoded data removed]",
      "text/plain": [
       "<Figure size 720x504 with 1 Axes>"
      ]
     },
     "metadata": {
      "needs_background": "light"
     },
     "output_type": "display_data"
    }
   ],
   "source": [
    "plt.figure(figsize = (10,7))\n",
    "plt.title('Log-Log Regression Plot of Milstein\\'s Strong Convergence')\n",
    "sns.regplot(np.log(delts), np.log(error_str_mil), ci = None)\n",
    "plt.xlabel('delta t')\n",
    "plt.ylabel('average of absolute differences');"
   ]
  },
  {
   "cell_type": "code",
   "execution_count": 28,
   "metadata": {},
   "outputs": [
    {
     "data": {
      "image/png": "[encoded data removed]",
      "text/plain": [
       "<Figure size 720x504 with 1 Axes>"
      ]
     },
     "metadata": {
      "needs_background": "light"
     },
     "output_type": "display_data"
    }
   ],
   "source": [
    "plt.figure(figsize = (10,7))\n",
    "plt.title('Log-Log Regression Plot of Euler-Maruyama\\'s Weak Convergence')\n",
    "sns.regplot(np.log(delts), np.log(error_weak_em), ci = None)\n",
    "plt.xlabel('delta t')\n",
    "plt.ylabel('absolute differences between average and expectation');"
   ]
  },
  {
   "cell_type": "code",
   "execution_count": 29,
   "metadata": {},
   "outputs": [
    {
     "data": {
      "image/png": "[encoded data removed]",
      "text/plain": [
       "<Figure size 720x504 with 1 Axes>"
      ]
     },
     "metadata": {
      "needs_background": "light"
     },
     "output_type": "display_data"
    }
   ],
   "source": [
    "plt.figure(figsize = (10,7))\n",
    "plt.title('Log-Log Regression Plot of Milstein\\'s Weak Convergence')\n",
    "sns.regplot(np.log(delts), np.log(error_weak_mil), ci = None)\n",
    "plt.xlabel('delta t')\n",
    "plt.ylabel('absolute differences between average and expectation');"
   ]
  },
  {
   "cell_type": "code",
   "execution_count": null,
   "metadata": {},
   "outputs": [],
   "source": []
  }
 ],
 "metadata": {
  "kernelspec": {
   "display_name": "Python 3",
   "language": "python",
   "name": "python3"
  },
  "language_info": {
   "codemirror_mode": {
    "name": "ipython",
    "version": 3
   },
   "file_extension": ".py",
   "mimetype": "text/x-python",
   "name": "python",
   "nbconvert_exporter": "python",
   "pygments_lexer": "ipython3",
   "version": "3.7.4"
  }
 },
 "nbformat": 4,
 "nbformat_minor": 4
}
