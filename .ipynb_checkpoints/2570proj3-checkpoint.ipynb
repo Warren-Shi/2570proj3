{
 "cells": [
  {
   "cell_type": "markdown",
   "metadata": {},
   "source": [
    "## 2570 Proj 3\n",
    "___Warren Shi___"
   ]
  },
  {
   "cell_type": "code",
   "execution_count": 1,
   "metadata": {},
   "outputs": [],
   "source": [
    "## Set up \n",
    "import numpy as np \n",
    "import pandas as pd\n",
    "import matplotlib.pyplot as plt\n",
    "import seaborn as sns\n",
    "import scipy.stats as st\n",
    "\n",
    "%matplotlib inline"
   ]
  },
  {
   "cell_type": "markdown",
   "metadata": {},
   "source": [
    "### Q1 "
   ]
  },
  {
   "cell_type": "markdown",
   "metadata": {},
   "source": [
    "### a). simulation function"
   ]
  },
  {
   "cell_type": "code",
   "execution_count": 2,
   "metadata": {},
   "outputs": [],
   "source": [
    "## i) function for simulation\n",
    "'''\n",
    "Function sim_exp\n",
    "This function takes the intensity parameter alpha and number of simulations n to simulate n iid wait times \n",
    "(exponential distribution) for a Poisson Process with intensity alpha. \n",
    "\n",
    "parameters:\n",
    "    alpha: double, the intensity parameter\n",
    "    n    : double, number of simulations \n",
    "    \n",
    "output:\n",
    "    np array of length n, the n simulated wait times (exponential variable)\n",
    "'''\n",
    "def sim_exp(n = 1, alpha = 3):\n",
    "    result = -np.log(1 - np.random.uniform(0,1,n)) / alpha\n",
    "    if n == 1:\n",
    "        return result[0]\n",
    "    else: \n",
    "        return result"
   ]
  },
  {
   "cell_type": "code",
   "execution_count": 3,
   "metadata": {},
   "outputs": [],
   "source": [
    "## ii) find N\n",
    "# we find the variance first from the pilot study\n",
    "pilot_size = 150\n",
    "pilot_data = sim_exp(pilot_size)\n",
    "pilot_var = np.var(pilot_data)\n",
    "z = st.norm.ppf(0.995)\n",
    "target_N = int(np.ceil((z*np.sqrt(pilot_var)/0.01)**2))"
   ]
  },
  {
   "cell_type": "code",
   "execution_count": 4,
   "metadata": {},
   "outputs": [],
   "source": [
    "## iii) find CI\n",
    "wt_sample = sim_exp(target_N)\n",
    "e_wt = np.mean(wt_sample)\n",
    "se_wt = np.sqrt(np.var(wt_sample)/target_N)\n",
    "CI_lower, CI_upper = e_wt - z * se_wt, e_wt + z * se_wt"
   ]
  },
  {
   "cell_type": "code",
   "execution_count": 5,
   "metadata": {},
   "outputs": [
    {
     "name": "stdout",
     "output_type": "stream",
     "text": [
      "The required sample size for the CI is: 6498\n",
      "The estimated expect value of Wt is   : 0.3280569750717049\n",
      "The 99% confidence interval is        : (0.31749322398269697, 0.3386207261607128)\n"
     ]
    }
   ],
   "source": [
    "print('The required sample size for the CI is: ' + str(target_N)) \n",
    "print('The estimated expect value of Wt is   : ' + str(e_wt)) \n",
    "print('The 99% confidence interval is        : ' + str((CI_lower, CI_upper))) "
   ]
  },
  {
   "cell_type": "markdown",
   "metadata": {},
   "source": [
    "### b). acceptance-rejection"
   ]
  },
  {
   "cell_type": "code",
   "execution_count": 6,
   "metadata": {},
   "outputs": [],
   "source": [
    "def pdf_1b(x, alpha = 3, t = 1):\n",
    "    if np.isscalar(x):\n",
    "        x = np.array(x)\n",
    "    arr1 = np.where((x<=t) & (x>0), alpha**2 * x * np.exp(-alpha*x), 0)\n",
    "    arr2 = np.where(x>t, alpha * (1 + alpha * t) * np.exp(-alpha*x), 0)\n",
    "    return arr1 + arr2"
   ]
  },
  {
   "cell_type": "code",
   "execution_count": 7,
   "metadata": {},
   "outputs": [
    {
     "data": {
      "image/png": "[encoded data removed]",
      "text/plain": [
       "<Figure size 432x288 with 1 Axes>"
      ]
     },
     "metadata": {
      "needs_background": "light"
     },
     "output_type": "display_data"
    }
   ],
   "source": [
    "x = np.linspace(0,5,10000)\n",
    "plt.plot(x, pdf_1b(x));"
   ]
  },
  {
   "cell_type": "code",
   "execution_count": 8,
   "metadata": {},
   "outputs": [
    {
     "data": {
      "text/plain": [
       "(0.9999999999991455, 1.0003499140154304e-09)"
      ]
     },
     "execution_count": 8,
     "metadata": {},
     "output_type": "execute_result"
    }
   ],
   "source": [
    "import scipy.integrate as integrate\n",
    "integrate.quad(pdf_1b, 0, 10)"
   ]
  },
  {
   "cell_type": "code",
   "execution_count": 9,
   "metadata": {},
   "outputs": [
    {
     "data": {
      "text/plain": [
       "3.6708278460219094e-06"
      ]
     },
     "execution_count": 9,
     "metadata": {},
     "output_type": "execute_result"
    }
   ],
   "source": [
    "pdf_1b(5)"
   ]
  },
  {
   "cell_type": "code",
   "execution_count": 33,
   "metadata": {},
   "outputs": [],
   "source": [
    "def sim_1b():\n",
    "    ## coin toss\n",
    "    ##if np.random.uniform() < 1-16/(3*np.exp(-1)-12*np.exp(-4)+16):\n",
    "    if np.random.uniform() < 1/400:\n",
    "        ## first half\n",
    "        c = pdf_1b(1/3)\n",
    "        unif1 = np.random.uniform()\n",
    "        if np.random.uniform() <= pdf_1b(unif1)/c:\n",
    "            return unif1\n",
    "        else:\n",
    "            return sim_1b()\n",
    "    else:\n",
    "        ## second half\n",
    "        c = 4\n",
    "        expn = sim_exp()\n",
    "        if expn > st.expon.pdf(1, 0, 1/3) and np.random.uniform() <= pdf_1b(expn)/(c*st.expon.pdf(expn, 0, 1/3)):\n",
    "            return expn\n",
    "        else:\n",
    "            return sim_1b()"
   ]
  },
  {
   "cell_type": "code",
   "execution_count": 34,
   "metadata": {},
   "outputs": [],
   "source": [
    "trythis = [sim_1b() for i in range(100000)]"
   ]
  },
  {
   "cell_type": "code",
   "execution_count": 35,
   "metadata": {},
   "outputs": [
    {
     "data": {
      "text/plain": [
       "<matplotlib.axes._subplots.AxesSubplot at 0x228ce4aef88>"
      ]
     },
     "execution_count": 35,
     "metadata": {},
     "output_type": "execute_result"
    },
    {
     "data": {
      "image/png": "[encoded data removed]",
      "text/plain": [
       "<Figure size 432x288 with 1 Axes>"
      ]
     },
     "metadata": {
      "needs_background": "light"
     },
     "output_type": "display_data"
    }
   ],
   "source": [
    "sns.distplot(trythis, bins = 1000)"
   ]
  },
  {
   "cell_type": "code",
   "execution_count": 36,
   "metadata": {},
   "outputs": [
    {
     "data": {
      "text/plain": [
       "[<matplotlib.lines.Line2D at 0x228cce40808>]"
      ]
     },
     "execution_count": 36,
     "metadata": {},
     "output_type": "execute_result"
    },
    {
     "data": {
      "image/png": "[encoded data removed]",
      "text/plain": [
       "<Figure size 432x288 with 1 Axes>"
      ]
     },
     "metadata": {
      "needs_background": "light"
     },
     "output_type": "display_data"
    }
   ],
   "source": [
    "x = np.linspace(0,5,1000)\n",
    "plt.plot(x, st.expon.pdf(x, 0, 1/3))\n",
    "plt.plot(x, 3*np.exp(-3*x))"
   ]
  },
  {
   "cell_type": "code",
   "execution_count": 30,
   "metadata": {},
   "outputs": [
    {
     "data": {
      "text/plain": [
       "0.8838506568495168"
      ]
     },
     "execution_count": 30,
     "metadata": {},
     "output_type": "execute_result"
    }
   ],
   "source": [
    "3*np.exp(-1)-12*np.exp(-4)"
   ]
  },
  {
   "cell_type": "code",
   "execution_count": null,
   "metadata": {},
   "outputs": [],
   "source": []
  },
  {
   "cell_type": "code",
   "execution_count": null,
   "metadata": {},
   "outputs": [],
   "source": []
  }
 ],
 "metadata": {
  "kernelspec": {
   "display_name": "Python 3",
   "language": "python",
   "name": "python3"
  },
  "language_info": {
   "codemirror_mode": {
    "name": "ipython",
    "version": 3
   },
   "file_extension": ".py",
   "mimetype": "text/x-python",
   "name": "python",
   "nbconvert_exporter": "python",
   "pygments_lexer": "ipython3",
   "version": "3.7.4"
  }
 },
 "nbformat": 4,
 "nbformat_minor": 4
}
