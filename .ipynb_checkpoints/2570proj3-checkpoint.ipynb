{
 "cells": [
  {
   "cell_type": "markdown",
   "metadata": {},
   "source": [
    "## 2570 Proj 3\n",
    "___Warren Shi___"
   ]
  },
  {
   "cell_type": "code",
   "execution_count": 1,
   "metadata": {},
   "outputs": [],
   "source": [
    "## Set up \n",
    "import numpy as np \n",
    "import pandas as pd\n",
    "import matplotlib.pyplot as plt\n",
    "import seaborn as sns\n",
    "import scipy.stats as st\n",
    "import scipy.integrate as integrate\n",
    "\n",
    "%matplotlib inline"
   ]
  },
  {
   "cell_type": "markdown",
   "metadata": {},
   "source": [
    "### Q1 "
   ]
  },
  {
   "cell_type": "markdown",
   "metadata": {},
   "source": [
    "### a). simulation function"
   ]
  },
  {
   "cell_type": "code",
   "execution_count": 2,
   "metadata": {},
   "outputs": [],
   "source": [
    "## i) function for simulation\n",
    "'''\n",
    "Function sim_exp\n",
    "This function takes the intensity parameter alpha and number of simulations n to simulate n iid wait times \n",
    "(exponential distribution) for a Poisson Process with intensity alpha. \n",
    "\n",
    "parameters:\n",
    "    alpha: double, the intensity parameter\n",
    "    n    : double, number of simulations \n",
    "    \n",
    "output:\n",
    "    np array of length n, the n simulated wait times (exponential variable)\n",
    "'''\n",
    "def sim_exp(n = 1, alpha = 3):\n",
    "    result = -np.log(1 - np.random.uniform(0,1,n)) / alpha\n",
    "    if n == 1:\n",
    "        return result[0]\n",
    "    else: \n",
    "        return result"
   ]
  },
  {
   "cell_type": "code",
   "execution_count": 3,
   "metadata": {},
   "outputs": [],
   "source": [
    "## ii) find N\n",
    "# we find the variance first from the pilot study\n",
    "pilot_size = 150\n",
    "pilot_data = sim_exp(pilot_size)\n",
    "pilot_var = np.var(pilot_data)\n",
    "z = st.norm.ppf(0.995)\n",
    "target_N = int(np.ceil((z*np.sqrt(pilot_var)/0.01)**2))"
   ]
  },
  {
   "cell_type": "code",
   "execution_count": 4,
   "metadata": {},
   "outputs": [],
   "source": [
    "## iii) find CI\n",
    "wt_sample = sim_exp(target_N)\n",
    "e_wt = np.mean(wt_sample)\n",
    "se_wt = np.sqrt(np.var(wt_sample)/target_N)\n",
    "CI_lower, CI_upper = e_wt - z * se_wt, e_wt + z * se_wt"
   ]
  },
  {
   "cell_type": "code",
   "execution_count": 5,
   "metadata": {},
   "outputs": [
    {
     "name": "stdout",
     "output_type": "stream",
     "text": [
      "The required sample size for the CI is: 6431\n",
      "The estimated expect value of Wt is   : 0.33793302901534694\n",
      "The 99% confidence interval is        : (0.3271710783484505, 0.3486949796822434)\n"
     ]
    }
   ],
   "source": [
    "print('The required sample size for the CI is: ' + str(target_N)) \n",
    "print('The estimated expect value of Wt is   : ' + str(e_wt)) \n",
    "print('The 99% confidence interval is        : ' + str((CI_lower, CI_upper))) "
   ]
  },
  {
   "cell_type": "markdown",
   "metadata": {},
   "source": [
    "### b). acceptance-rejection"
   ]
  },
  {
   "cell_type": "code",
   "execution_count": 6,
   "metadata": {},
   "outputs": [],
   "source": [
    "'''\n",
    "Function pdf_1b\n",
    "pdf of the distribution in question\n",
    "\n",
    "parameters:\n",
    "    alpha: double, the intensity parameter\n",
    "    n    : double, number of simulations \n",
    "    \n",
    "output:\n",
    "    np array of length n, the n simulated wait times (exponential variable)\n",
    "'''\n",
    "def pdf_1b(x, alpha = 3, t = 1):\n",
    "    if np.isscalar(x):\n",
    "        x = np.array(x)\n",
    "    arr1 = np.where((x<=t) & (x>0), alpha**2 * x * np.exp(-alpha*x), 0)\n",
    "    arr2 = np.where(x>t, alpha * (1 + alpha * t) * np.exp(-alpha*x), 0)\n",
    "    return arr1 + arr2"
   ]
  },
  {
   "cell_type": "code",
   "execution_count": 7,
   "metadata": {},
   "outputs": [
    {
     "data": {
      "image/png": "[encoded data removed]",
      "text/plain": [
       "<Figure size 432x288 with 1 Axes>"
      ]
     },
     "metadata": {
      "needs_background": "light"
     },
     "output_type": "display_data"
    }
   ],
   "source": [
    "## What our target pdf looks like \n",
    "x = np.linspace(0,5,10000)\n",
    "plt.plot(x, pdf_1b(x))\n",
    "plt.title('Target PDF');"
   ]
  },
  {
   "cell_type": "code",
   "execution_count": 8,
   "metadata": {},
   "outputs": [],
   "source": [
    "'''\n",
    "Function sim_1b\n",
    "A function that simulates the above pdf through Acceptance-Rejection\n",
    "\n",
    "parameters:\n",
    "    None\n",
    "    \n",
    "output:\n",
    "    double, the simulated result\n",
    "'''\n",
    "def sim_1b():\n",
    "    c = 4\n",
    "    expn = sim_exp()\n",
    "    if np.random.uniform() <= pdf_1b(expn)/(c*3*np.exp(-3*expn)):\n",
    "        return expn\n",
    "    else:\n",
    "        return sim_1b()"
   ]
  },
  {
   "cell_type": "code",
   "execution_count": 9,
   "metadata": {},
   "outputs": [
    {
     "data": {
      "image/png": "[encoded data removed]",
      "text/plain": [
       "<Figure size 432x288 with 1 Axes>"
      ]
     },
     "metadata": {
      "needs_background": "light"
     },
     "output_type": "display_data"
    }
   ],
   "source": [
    "## Graphical illustration of our simulated distribution\n",
    "try_1b = [sim_1b() for i in range(100000)]\n",
    "sns.distplot(try_1b, bins = 100, kde = False, norm_hist = True)\n",
    "plt.title('Histogram of 100000 Samples from Our Simulation');"
   ]
  },
  {
   "cell_type": "code",
   "execution_count": 10,
   "metadata": {},
   "outputs": [
    {
     "name": "stdout",
     "output_type": "stream",
     "text": [
      "The required sample size for the CI is: 11535\n",
      "The estimated expect value of Xt is   : 0.6495777310991598\n",
      "The 99% confidence interval is        : (0.6390759305634435, 0.6600795316348762)\n"
     ]
    }
   ],
   "source": [
    "## Something similar to part a) to find a confidence interval\n",
    "## get N\n",
    "pilot_size = 150\n",
    "pilot_data = [sim_1b() for i in range(pilot_size)]\n",
    "pilot_var = np.var(pilot_data)\n",
    "z = st.norm.ppf(0.995)\n",
    "target_N = int(np.ceil((z*np.sqrt(pilot_var)/0.01)**2))\n",
    "## get CI\n",
    "ob_sample = [sim_1b() for i in range(target_N)]\n",
    "e_1b = np.mean(ob_sample)\n",
    "se_1b = np.sqrt(np.var(ob_sample)/target_N)\n",
    "CI_lower, CI_upper = e_1b - z * se_1b, e_1b + z * se_1b\n",
    "## Output\n",
    "print('The required sample size for the CI is: ' + str(target_N)) \n",
    "print('The estimated expect value of Xt is   : ' + str(e_1b)) \n",
    "print('The 99% confidence interval is        : ' + str((CI_lower, CI_upper)))"
   ]
  },
  {
   "cell_type": "markdown",
   "metadata": {},
   "source": [
    "### c). Control Variate Simulation"
   ]
  },
  {
   "cell_type": "code",
   "execution_count": 11,
   "metadata": {},
   "outputs": [],
   "source": [
    "## i) function for simulation\n",
    "'''\n",
    "Function sim_1c\n",
    "Vanilla simulation of the inter-arrival interval Xt = Wt+Vt.\n",
    "\n",
    "parameters:\n",
    "    n    : double, number of simulations \n",
    "    \n",
    "output:\n",
    "    xt: np array of length n, the n simulated intervals \n",
    "    wt: np array of length n, the n simulated wait times \n",
    "'''\n",
    "def sim_1c(n = 1):\n",
    "    w0 = sim_exp(n = n)\n",
    "    vt = np.random.uniform(0,w0)\n",
    "    wt = sim_exp(n = n)\n",
    "    xt = wt+vt\n",
    "    return xt, wt"
   ]
  },
  {
   "cell_type": "code",
   "execution_count": 12,
   "metadata": {},
   "outputs": [
    {
     "data": {
      "text/plain": [
       "0.5002362083546719"
      ]
     },
     "execution_count": 12,
     "metadata": {},
     "output_type": "execute_result"
    }
   ],
   "source": [
    "## Estimate the covariance and correlation between xt and wt through pilot study\n",
    "pilot_data = sim_1c(10000000)\n",
    "cov_pilot = np.cov(pilot_data)[0,1]\n",
    "corr_pilot = np.corrcoef(pilot_data)[0,1]\n",
    "## variance of wt is 1/lambda(alpah, or 3) squared since wt is exponential\n",
    "var_wt = 1/9\n",
    "## get optimal c\n",
    "c_star = cov_pilot/var_wt\n",
    "## E(wt) is 1/3 by exponential\n",
    "v = 1/3\n",
    "## sample again for the actual controlled variable estimation\n",
    "xt_control, wt_control = sim_1c(100000)\n",
    "## get theta by formula\n",
    "theta = np.mean(xt_control) + c_star*(v-np.mean(wt_control))\n",
    "theta"
   ]
  },
  {
   "cell_type": "code",
   "execution_count": 13,
   "metadata": {},
   "outputs": [
    {
     "data": {
      "text/plain": [
       "0.4998254636023139"
      ]
     },
     "execution_count": 13,
     "metadata": {},
     "output_type": "execute_result"
    }
   ],
   "source": [
    "np.mean(sim_1c(10000000)[0])"
   ]
  },
  {
   "cell_type": "code",
   "execution_count": 14,
   "metadata": {},
   "outputs": [
    {
     "data": {
      "text/plain": [
       "(0.6500709770373041, 4.5855368391301e-09)"
      ]
     },
     "execution_count": 14,
     "metadata": {},
     "output_type": "execute_result"
    }
   ],
   "source": [
    "integrate.quad(lambda x: x*pdf_1b(x), 0, 100)"
   ]
  },
  {
   "cell_type": "code",
   "execution_count": 15,
   "metadata": {},
   "outputs": [
    {
     "name": "stdout",
     "output_type": "stream",
     "text": [
      "The estimated mean of Xt through control-variate is: 0.5002362083546719\n",
      "The variance of this estimation over the variance of vanilla Monte-Carlo is: 0.29407147708765213\n"
     ]
    }
   ],
   "source": [
    "print('The estimated mean of Xt through control-variate is: ' + str(theta))\n",
    "print('The variance of this estimation over the variance of vanilla Monte-Carlo is: ' + str(1-corr_pilot**2))"
   ]
  },
  {
   "cell_type": "markdown",
   "metadata": {},
   "source": [
    "## Q2"
   ]
  },
  {
   "cell_type": "code",
   "execution_count": 16,
   "metadata": {},
   "outputs": [
    {
     "name": "stdout",
     "output_type": "stream",
     "text": [
      "The estimated Theta is :0.158885\n",
      "The variance of this antithetic estimator is: 0.05567305677500001\n"
     ]
    }
   ],
   "source": [
    "sims_2 = []\n",
    "for k in range(100000):\n",
    "    unif2 = np.random.uniform(0,1,5)\n",
    "    sims_2.append((int(np.sum([-np.log(unif2[i])*(i+1) for i in range(5)])>=22) + \n",
    "                int(np.sum([-np.log(1-unif2[i])*(i+1) for i in range(5)])>=22)) / 2)\n",
    "print('The estimated Theta is :' + str(np.mean(sims_2)))\n",
    "print('The variance of this antithetic estimator is: ' + str(np.var(sims_2)))"
   ]
  },
  {
   "cell_type": "code",
   "execution_count": 17,
   "metadata": {},
   "outputs": [
    {
     "data": {
      "text/plain": [
       "0.158592"
      ]
     },
     "execution_count": 17,
     "metadata": {},
     "output_type": "execute_result"
    }
   ],
   "source": [
    "test_2 = []\n",
    "for k in range(1000000):\n",
    "    test_2.append(np.sum([np.random.exponential(1)*(i+1) for i in range(5)]) >= 22)\n",
    "np.mean(test_2)"
   ]
  },
  {
   "cell_type": "markdown",
   "metadata": {},
   "source": [
    "## Q3"
   ]
  },
  {
   "cell_type": "code",
   "execution_count": null,
   "metadata": {},
   "outputs": [],
   "source": []
  }
 ],
 "metadata": {
  "kernelspec": {
   "display_name": "Python 3",
   "language": "python",
   "name": "python3"
  },
  "language_info": {
   "codemirror_mode": {
    "name": "ipython",
    "version": 3
   },
   "file_extension": ".py",
   "mimetype": "text/x-python",
   "name": "python",
   "nbconvert_exporter": "python",
   "pygments_lexer": "ipython3",
   "version": "3.7.4"
  }
 },
 "nbformat": 4,
 "nbformat_minor": 4
}
